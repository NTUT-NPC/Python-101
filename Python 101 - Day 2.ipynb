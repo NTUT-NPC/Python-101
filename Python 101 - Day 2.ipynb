{
 "cells": [
  {
   "cell_type": "markdown",
   "metadata": {},
   "source": [
    "# 從零開始的 Python 旅程 - Day 2"
   ]
  },
  {
   "cell_type": "markdown",
   "metadata": {},
   "source": [
    "## (續) Python 常用的變數型態\n",
    "下面的變數型態共通的特點是，可以塞入多個子元素，將用途相同的內容包在一起\n",
    "### 清單 list\n",
    "等同於其他語言中的陣列 (array)，在 `[]` 中可以包入多個元素  \n",
    "在事後可用 `.append()` 追加，或是用 `<變數名稱>[第幾個元素] = 值` 進行更改"
   ]
  },
  {
   "cell_type": "code",
   "execution_count": null,
   "metadata": {},
   "outputs": [],
   "source": [
    "a = [1, 4, 255, 8972]\n",
    "a[2] = 128\n",
    "print(a)\n",
    "\n",
    "a.append('c8763')\n",
    "print(a)"
   ]
  },
  {
   "cell_type": "markdown",
   "metadata": {},
   "source": [
    "### 元祖 tuple\n",
    "簡易版的 list，在創建後無法對元素進行增減或排序\n",
    "```\n",
    "(1, 'owo', ['Let's play a game', 3.1415926])\n",
    "```\n",
    "### 字典 dict\n",
    "利用左邊的 key，可以找到右邊的 value  \n",
    "跟在書中可以用章節名稱找到頁碼的方式一樣\n",
    "> 新增元素時，可以直接用 `<變數名稱>[<key>] = <value>`"
   ]
  },
  {
   "cell_type": "code",
   "execution_count": null,
   "metadata": {},
   "outputs": [],
   "source": [
    "fruit = {'apple': 20, 'orange': 15, 'banana': 15}\n",
    "fruit['melon'] = 50\n",
    "\n",
    "print(fruit['melon'])"
   ]
  },
  {
   "cell_type": "markdown",
   "metadata": {},
   "source": [
    "## 迴圈\n",
    "### while\n",
    "```\n",
    "while <條件>:\n",
    "    重複執行這裡的程式，直到條件不再成立\n",
    "```\n",
    "> 可以用 `while True:` 達成無窮迴圈的效果"
   ]
  },
  {
   "cell_type": "code",
   "execution_count": null,
   "metadata": {},
   "outputs": [],
   "source": [
    "count = 0\n",
    "while count < 3:\n",
    "    print(count)\n",
    "    count = count + 1"
   ]
  },
  {
   "cell_type": "markdown",
   "metadata": {},
   "source": [
    "### for...in...\n",
    "```\n",
    "for <子元素> in <母元素>:\n",
    "    重複執行這裡的程式，直到所有子元素都被取出來\n",
    "```\n",
    "> 使用 range() 可以方便的控制執行次數"
   ]
  },
  {
   "cell_type": "code",
   "execution_count": null,
   "metadata": {},
   "outputs": [],
   "source": [
    "for i in range(5):\n",
    "    print(i)\n",
    "\n",
    "print('-------')\n",
    "for j in range(3, 7):\n",
    "    print(j)"
   ]
  },
  {
   "cell_type": "markdown",
   "metadata": {},
   "source": [
    "利用這個特性，我們還可以快速的將 list, tuple 及 dict 中的元素取出來："
   ]
  },
  {
   "cell_type": "code",
   "execution_count": null,
   "metadata": {},
   "outputs": [],
   "source": [
    "menu = ['Beef burger', 'Pancake with ice cream', 'BLT sandwich']\n",
    "\n",
    "for food in menu:\n",
    "    print(food)"
   ]
  },
  {
   "cell_type": "markdown",
   "metadata": {},
   "source": [
    "## 函數、方法\n",
    "兩者的差異不大，用法也差不多，在這裡不談論細節：\n",
    "```\n",
    "def <名稱>(<要傳入的參數>):\n",
    "    要執行的程式\n",
    "    ...\n",
    "    return 要回傳的值\n",
    "```"
   ]
  },
  {
   "cell_type": "code",
   "execution_count": null,
   "metadata": {},
   "outputs": [],
   "source": [
    "def add_5(a):\n",
    "    b = a + 5\n",
    "    return b\n",
    "\n",
    "c = add_5(12)\n",
    "print(c)"
   ]
  },
  {
   "cell_type": "markdown",
   "metadata": {},
   "source": [
    "# 模組、套件\n",
    "每一個 Python 的檔案都可以當作一個模組  \n",
    "若在同一層資料夾底下，可以用 `import <檔案名城>` 引入，並使用裡面的函數\n",
    "\n",
    "把一堆 Python 檔案包在一起便形成套件，分享在網路上的套件大多可透過 `pip` 進行安裝\n",
    "```\n",
    "pip install <套件的名稱>\n",
    "```\n",
    "> 由於 Jupyter 是個虛擬環境，安裝方法與一般使用上不太一樣"
   ]
  },
  {
   "cell_type": "markdown",
   "metadata": {},
   "source": [
    "## 進階：網路爬蟲\n",
    "爬蟲最簡單的定義：透過自動化的程式抓取網頁的資料  \n",
    "在瀏覽器中按下 `F12` 或是 `command + option + I`，可以看到該網頁的原始碼，爬蟲即是透過模擬瀏覽器的行為下載原始碼，並從裡面搜集想要的東西。  \n",
    "首先，我們得先安裝 `requests` 及 `beautifulsoup4` 兩個套件：\n",
    "> `requests` 是一個處理上傳、下載的套件，`beautifulsoup4` 是一個分析網頁原始碼的套件"
   ]
  },
  {
   "cell_type": "code",
   "execution_count": null,
   "metadata": {},
   "outputs": [],
   "source": [
    "import sys\n",
    "!{sys.executable} -m pip install requests\n",
    "!{sys.executable} -m pip install beautifulsoup4"
   ]
  },
  {
   "cell_type": "markdown",
   "metadata": {},
   "source": [
    "在安裝完成後，可以用下面的程式碼抓取 Google 首頁的原始碼："
   ]
  },
  {
   "cell_type": "code",
   "execution_count": null,
   "metadata": {},
   "outputs": [],
   "source": [
    "import requests\n",
    "\n",
    "result = requests.get('https://www.google.com.tw/')\n",
    "print(result.text)"
   ]
  },
  {
   "cell_type": "markdown",
   "metadata": {},
   "source": [
    "單單這樣操作，回傳的結果不太好看  \n",
    "這時候 `beautifulsoup4` 就派上用場了："
   ]
  },
  {
   "cell_type": "code",
   "execution_count": 4,
   "metadata": {},
   "outputs": [],
   "source": [
    "import requests\n",
    "from bs4 import BeautifulSoup\n",
    "\n",
    "result = requests.get('https://www.google.com.tw/')\n",
    "soup = BeautifulSoup(result.text)\n",
    "\n",
    "print(soup.prettify())"
   ]
  },
  {
   "cell_type": "code",
   "execution_count": null,
   "metadata": {},
   "outputs": [],
   "source": []
  }
 ],
 "metadata": {
  "kernelspec": {
   "display_name": "Python 3",
   "language": "python",
   "name": "python3"
  },
  "language_info": {
   "codemirror_mode": {
    "name": "ipython",
    "version": 3
   },
   "file_extension": ".py",
   "mimetype": "text/x-python",
   "name": "python",
   "nbconvert_exporter": "python",
   "pygments_lexer": "ipython3",
   "version": "3.6.5"
  }
 },
 "nbformat": 4,
 "nbformat_minor": 2
}

{
 "cells": [
  {
   "cell_type": "markdown",
   "metadata": {},
   "source": [
    "# 從零開始的 Python 旅程 - Day 1"
   ]
  },
  {
   "cell_type": "markdown",
   "metadata": {},
   "source": [
    "## Python 的基本用法\n",
    "### 宣告變數\n",
    "這是最常見的變數宣告方式：\n",
    "```\n",
    "<變數的名稱> = <變數的內容>\n",
    "```"
   ]
  },
  {
   "cell_type": "code",
   "execution_count": null,
   "metadata": {},
   "outputs": [],
   "source": [
    "year = 2018\n",
    "apple = '蘋果'\n",
    "公道價 = 81000\n",
    "しょぼん = '(´･ω･`)'"
   ]
  },
  {
   "cell_type": "markdown",
   "metadata": {},
   "source": [
    "> 變數名稱可以是各種語系的文字，但為了方便閱讀以及溝通，我們通常維持使用英文"
   ]
  },
  {
   "cell_type": "markdown",
   "metadata": {},
   "source": [
    "## Python 常用的變數型態\n",
    "Python 在大部分的情況會根據輸入的內容判斷變數的型態，因此了解各型態的特點相當重要  \n",
    "> 當要在不同型態間轉換時，可以用該型態名稱直接包住 (如果無法轉換，Python 會噴出錯誤)  \n",
    "Ex: int(3.14) 為 3，str(5688) 為 '5688'"
   ]
  },
  {
   "cell_type": "markdown",
   "metadata": {},
   "source": [
    "### 整數 int\n",
    "任何**沒有帶有**小數點的數字，從無限大到無限小"
   ]
  },
  {
   "cell_type": "code",
   "execution_count": null,
   "metadata": {},
   "outputs": [],
   "source": [
    "a = 123\n",
    "print(a)"
   ]
  },
  {
   "cell_type": "markdown",
   "metadata": {},
   "source": [
    "### 浮點數 float\n",
    "任何**帶有**小數點的數字"
   ]
  },
  {
   "cell_type": "code",
   "execution_count": null,
   "metadata": {},
   "outputs": [],
   "source": [
    "b = 3.1415926\n",
    "print(b)"
   ]
  },
  {
   "cell_type": "markdown",
   "metadata": {},
   "source": [
    "#### 整數及浮點數的基本運算\n",
    "- `+` -- 加  \n",
    "Ex: `5+12` 為 17\n",
    "- `-` -- 減  \n",
    "Ex: `5-1.2` 約為 3.8\n",
    "- `*` -- 乘  \n",
    "Ex: `5*12` 為 60\n",
    "- `/` -- 除  \n",
    "Ex: `5/12` 約為 0.4166666\n",
    "- `**` -- 次方  \n",
    "Ex: `5**12` 為 244140625 \n",
    "- `//` -- 整除  \n",
    "Ex: `5//12` 為 0 \n",
    "- `%` -- 餘數  \n",
    "Ex: `5%12` 為 5"
   ]
  },
  {
   "cell_type": "markdown",
   "metadata": {},
   "source": [
    "### 字串 str\n",
    "就是...一串文字？  \n",
    "在一串字的前後加上 **'** 或是 **\"** 都是字串的標準型態  \n",
    "Ex: `'這是一個字串'` `\"這也是一個字串\"`"
   ]
  },
  {
   "cell_type": "code",
   "execution_count": null,
   "metadata": {},
   "outputs": [],
   "source": [
    "c = '早安我的朋友'\n",
    "print(c)"
   ]
  },
  {
   "cell_type": "markdown",
   "metadata": {},
   "source": [
    "### 布林值 bool\n",
    "這是一種變數表示條件成立 (True) 或是不成立 (False)  \n",
    "常用於條件式 (後述)"
   ]
  },
  {
   "cell_type": "code",
   "execution_count": null,
   "metadata": {},
   "outputs": [],
   "source": [
    "d = 3<2\n",
    "print(d)"
   ]
  },
  {
   "cell_type": "markdown",
   "metadata": {},
   "source": [
    "## 輸入 / 輸出\n",
    "Python 提供了兩個簡易的方法達成輸入以及輸出：\n",
    "- `input(<用來提示使用者的文字>)` -- 取得輸入的內容，收到的東西一律為字串 (str)\n",
    "- `print(<任何想顯示的東西>)` -- 將結果顯示出來，可以用 **,** 分隔變數，以同時顯示多項東西"
   ]
  },
  {
   "cell_type": "code",
   "execution_count": null,
   "metadata": {},
   "outputs": [],
   "source": [
    "text_a = input('打些東西讓我看看：')\n",
    "print('這是你剛剛打的東西：', text_a)\n",
    "text_b = input('再打些東西讓我看看：')\n",
    "print('這是你剛剛打的東西：', text_b)"
   ]
  },
  {
   "cell_type": "markdown",
   "metadata": {},
   "source": [
    "## 條件式\n",
    "這是條件式的宣告方式，記得包在條件式裡的東西前面要空四格空白：\n",
    "```\n",
    "if <條件>:\n",
    "    執行這裡的東西，如果條件成立\n",
    "else:\n",
    "    執行這裡的東西，如果條件不成立\n",
    "```\n",
    "\n",
    "當 else 之後又接著 if，可以使用 elif 簡化流程：\n",
    "```\n",
    "if <條件 1>:\n",
    "    執行這裡的東西，如果條件 1 成立\n",
    "elif <條件 2>:\n",
    "    執行這裡的東西，如果條件 1 不成立，但條件 2 成立\n",
    "else:\n",
    "    執行這裡的東西，如果條件 1 跟條件 2 都不成立\n",
    "```"
   ]
  },
  {
   "cell_type": "code",
   "execution_count": null,
   "metadata": {},
   "outputs": [],
   "source": [
    "if 3<2:\n",
    "    print('2 比 3 大')\n",
    "else:\n",
    "    print('3 比 2 大')"
   ]
  },
  {
   "cell_type": "markdown",
   "metadata": {},
   "source": [
    "### 比較運算\n",
    "- `<, <=` -- 小於，小於或等於\n",
    "- `>, >=` -- 大於，大於或等於\n",
    "- `==, !=` -- 等於，不等於\n",
    "\n",
    "### 布林運算\n",
    "- and -- `<條件 1> and <條件 2>`  \n",
    "<條件 1> **及** <條件 2> 皆成立時回傳 True\n",
    "- or -- `<條件 1> or <條件 2>`  \n",
    "<條件 1> **或** <條件 2> 成立時回傳 True\n",
    "- not -- `not <條件>`  \n",
    "若 <條件> 為 True 時回傳 False，反之亦成立"
   ]
  },
  {
   "cell_type": "code",
   "execution_count": null,
   "metadata": {},
   "outputs": [],
   "source": [
    "cash = 50\n",
    "apple = 30\n",
    "orange = 15\n",
    "\n",
    "if cash > apple and cash > orange:\n",
    "    print('蘋果跟橘子，我都買得起')\n",
    "elif cash > apple:\n",
    "    print('我買得起蘋果')\n",
    "elif cash > orange:\n",
    "    print('我買得起橘子')\n",
    "else:\n",
    "    print('我什麼都買不起QQ')"
   ]
  },
  {
   "cell_type": "markdown",
   "metadata": {},
   "source": [
    "## 小試身手：BMI 計算器\n",
    "假設 BMI 低於 18.5 為過輕，大於 24 為過重，設計一個程式可以輸入身高跟體重，判斷一個人的 BMI  \n",
    "> BMI 定義：體重 (公斤) 除以身高 (公尺) 的平方  \n",
    "> 提示：用 float() 將字串轉成浮點數"
   ]
  },
  {
   "cell_type": "code",
   "execution_count": null,
   "metadata": {},
   "outputs": [],
   "source": []
  }
 ],
 "metadata": {
  "kernelspec": {
   "display_name": "Python 3",
   "language": "python",
   "name": "python3"
  },
  "language_info": {
   "codemirror_mode": {
    "name": "ipython",
    "version": 3
   },
   "file_extension": ".py",
   "mimetype": "text/x-python",
   "name": "python",
   "nbconvert_exporter": "python",
   "pygments_lexer": "ipython3",
   "version": "3.6.5"
  }
 },
 "nbformat": 4,
 "nbformat_minor": 2
}
